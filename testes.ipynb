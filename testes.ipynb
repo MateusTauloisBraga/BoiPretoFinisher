{
 "cells": [
  {
   "cell_type": "code",
   "execution_count": 6,
   "metadata": {},
   "outputs": [
    {
     "name": "stdout",
     "output_type": "stream",
     "text": [
      "Euclidean Distance: 1.1100000003523292\n"
     ]
    },
    {
     "data": {
      "text/plain": [
       "1.0430600670878603"
      ]
     },
     "execution_count": 6,
     "metadata": {},
     "output_type": "execute_result"
    }
   ],
   "source": [
    "from math import radians, sin, cos, sqrt, atan2\n",
    "import numpy as np\n",
    "\n",
    "def euclidean_distance(points1, points2):\n",
    "    return np.linalg.norm(points1 - points2)\n",
    "\n",
    "def haversine_distance(lat1, lon1, lat2, lon2):\n",
    "    \"\"\"\n",
    "    Calcular distância precisa entre dois pontos geográficos\n",
    "    \"\"\"\n",
    "    R = 6371000  # Raio da Terra em metros\n",
    "    \n",
    "    # Converter para radianos\n",
    "    lat1, lon1, lat2, lon2 = map(radians, [lat1, lon1, lat2, lon2])\n",
    "    \n",
    "    # Diferenças\n",
    "    dlat = lat2 - lat1\n",
    "    dlon = lon2 - lon1\n",
    "    \n",
    "    # Fórmula de Haversine\n",
    "    a = sin(dlat/2)**2 + cos(lat1) * cos(lat2) * sin(dlon/2)**2\n",
    "    c = 2 * atan2(sqrt(a), sqrt(1-a))\n",
    "    \n",
    "    return R * c\n",
    "\n",
    "\n",
    "\n",
    "lat1 = -20.27397\n",
    "lon1 = -43.9878\n",
    "\n",
    "lat2 = -20.27397\n",
    "lon2 = -43.98779\n",
    "\n",
    "points1 = np.array([lat1,lon1])\n",
    "    \n",
    "points2 = np.array([lat2,lon2])\n",
    "    \n",
    "distance = euclidean_distance(points1, points2) * 111000 \n",
    "print(f\"Euclidean Distance: {distance}\") \n",
    "        \n",
    "\n",
    "\n",
    "\n",
    "haversine_distance(lat1, lon1, lat2, lon2)"
   ]
  },
  {
   "cell_type": "code",
   "execution_count": null,
   "metadata": {},
   "outputs": [
    {
     "name": "stdout",
     "output_type": "stream",
     "text": [
      "Arquivo GPX salvo como arquivo.gpx.\n"
     ]
    }
   ],
   "source": [
    "def download_gpx_from_strava(link):\n",
    "    \"\"\"Baixa um arquivo GPX do Strava, dado o link da atividade.\"\"\"\n",
    "    try:\n",
    "        export_link = f\"{link}/export_gpx\"\n",
    "        response = requests.get(export_link)\n",
    "        response.raise_for_status()  # Verifica se houve erro na requisição\n",
    "        \n",
    "        temp_file = tempfile.NamedTemporaryFile(delete=False, suffix=\".gpx\")\n",
    "        with open(temp_file.name, \"wb\") as f:\n",
    "            f.write(response.content)\n",
    "        \n",
    "        return temp_file.name\n",
    "    except requests.exceptions.RequestException as e:\n",
    "        st.error(f\"Erro ao baixar o arquivo GPX: {e}\")\n",
    "        return None\n",
    "    \n",
    "\n",
    "    "
   ]
  },
  {
   "cell_type": "code",
   "execution_count": null,
   "metadata": {},
   "outputs": [
    {
     "data": {
      "text/plain": [
       "('-43.923468', '-19.949721')"
      ]
     },
     "execution_count": 20,
     "metadata": {},
     "output_type": "execute_result"
    }
   ],
   "source": [
    "import requests\n",
    "import re\n",
    "\n",
    "# URL da página do Wikiloc\n",
    "\n",
    "\n",
    "\n",
    "def get_position(url):\n",
    "    # Configurar cabeçalhos para evitar bloqueio\n",
    "    headers = {\n",
    "        \"User-Agent\": \"Mozilla/5.0 (Windows NT 10.0; Win64; x64) AppleWebKit/537.36 (KHTML, like Gecko) Chrome/114.0.0.0 Safari/537.36\"\n",
    "    }\n",
    "\n",
    "    # Fazer a requisição\n",
    "    response = requests.get(url, headers=headers)\n",
    "\n",
    "    # Verificar se a página foi acessada com sucesso\n",
    "    if response.status_code == 200:\n",
    "        # Procurar pela variável \"data\" no HTML\n",
    "        match = re.search(r\"'data':'(.*?)'\", response.text)\n",
    "        if match:\n",
    "            # Capturar os dados e dividir as posições\n",
    "            data = match.group(1)\n",
    "            positions = data.split(\",\")\n",
    "            \n",
    "            # Pegar a última posição (latitude e longitude)\n",
    "            last_latitude = positions[-4]\n",
    "            last_longitude = positions[-3]\n",
    "            \n",
    "            # print(f\"Última posição: Latitude: {last_latitude}, Longitude: {last_longitude}\")\n",
    "\n",
    "            return last_latitude,last_longitude\n",
    "        else:\n",
    "            print(\"Dados de posição não encontrados.\")\n",
    "    else:\n",
    "        print(f\"Erro ao acessar a página. Código HTTP: {response.status_code}\")\n",
    "\n",
    "\n",
    "\n",
    "# url = \"https://www.wikiloc.com/live/7436826/88EBULB\"\n",
    "\n",
    "\n",
    "get_position(url)"
   ]
  },
  {
   "cell_type": "code",
   "execution_count": 26,
   "metadata": {},
   "outputs": [
    {
     "data": {
      "text/plain": [
       "[-19.949774, -43.923447]"
      ]
     },
     "execution_count": 26,
     "metadata": {},
     "output_type": "execute_result"
    }
   ],
   "source": [
    "from bs4 import BeautifulSoup\n",
    "import json\n",
    "\n",
    "def generate_map(url):\n",
    "    response = requests.get(url)\n",
    "\n",
    "    if response.status_code == 200:\n",
    "        soup = BeautifulSoup(response.text, 'html.parser')\n",
    "        script = soup.find('script', string=lambda t: t and 'initialActivity' in t)\n",
    "\n",
    "        if script:\n",
    "            json_text = script.string.strip()\n",
    "            json_match = re.search(r'var initialActivity = ({.*?});', json_text, re.DOTALL)\n",
    "\n",
    "            if json_match:\n",
    "                json_text = json_match.group(1)\n",
    "                json_text = json_text.replace(\"'\", '\"')\n",
    "\n",
    "                json_data = json.loads(json_text)\n",
    "                latlng = json_data.get('streams', {}).get('latlng', None)\n",
    "                return latlng[-1]\n",
    "\n",
    "\n",
    "generate_map(\"https://www.strava.com/beacon/3lAppyVROxB\")"
   ]
  },
  {
   "cell_type": "code",
   "execution_count": null,
   "metadata": {},
   "outputs": [],
   "source": [
    "from urllib.parse import urlparse\n",
    "import folium\n",
    "import folium.plugins\n",
    "\n",
    "original_url = \"https://livetrack.garmin.com/session/0a44556a-3c08-89f5-99b6-b9d57f5ba500/token/A13B7C18E49DF3C41C2504ED06614E2\"\n",
    "\n",
    "\n",
    "def get_position_garmin(url):\n",
    "    parsed_url = urlparse(original_url)\n",
    "\n",
    "    path_parts = parsed_url.path.split('/')\n",
    "    session_id = path_parts[2]\n",
    "\n",
    "    base_url = f\"https://livetrack.garmin.com/services/session/{session_id}/trackpoints\"\n",
    "\n",
    "    response = requests.get(base_url)\n",
    "\n",
    "    if response.status_code == 200:\n",
    "        data = response.json()\n",
    "\n",
    "        track_points = data.get(\"trackPoints\", [])\n",
    "\n",
    "        track_point = track_points[-1]\n",
    "        \n",
    "        coordinates = track_point[\"position\"][\"lat\"], track_point[\"position\"][\"lon\"]\n",
    "    return coordinates"
   ]
  },
  {
   "cell_type": "code",
   "execution_count": 35,
   "metadata": {},
   "outputs": [
    {
     "data": {
      "text/plain": [
       "(-19.97209008783102, -43.94257312640548)"
      ]
     },
     "execution_count": 35,
     "metadata": {},
     "output_type": "execute_result"
    }
   ],
   "source": [
    "coordinates"
   ]
  }
 ],
 "metadata": {
  "kernelspec": {
   "display_name": "boti",
   "language": "python",
   "name": "python3"
  },
  "language_info": {
   "codemirror_mode": {
    "name": "ipython",
    "version": 3
   },
   "file_extension": ".py",
   "mimetype": "text/x-python",
   "name": "python",
   "nbconvert_exporter": "python",
   "pygments_lexer": "ipython3",
   "version": "3.9.16"
  }
 },
 "nbformat": 4,
 "nbformat_minor": 2
}
